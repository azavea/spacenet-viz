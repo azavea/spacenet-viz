{
 "cells": [
  {
   "cell_type": "code",
   "execution_count": 1,
   "metadata": {},
   "outputs": [
    {
     "name": "stdout",
     "output_type": "stream",
     "text": [
      "Requirement already satisfied: awscli in /home/hadoop/.local/lib/python3.4/site-packages\n",
      "Requirement already satisfied: s3transfer<0.2.0,>=0.1.9 in /home/hadoop/.local/lib/python3.4/site-packages (from awscli)\n",
      "Requirement already satisfied: docutils>=0.10 in /home/hadoop/.local/lib/python3.4/site-packages (from awscli)\n",
      "Requirement already satisfied: colorama<=0.3.7,>=0.2.5 in /home/hadoop/.local/lib/python3.4/site-packages (from awscli)\n",
      "Requirement already satisfied: rsa<=3.5.0,>=3.1.2 in /home/hadoop/.local/lib/python3.4/site-packages (from awscli)\n",
      "Requirement already satisfied: botocore==1.5.77 in /home/hadoop/.local/lib/python3.4/site-packages (from awscli)\n",
      "Requirement already satisfied: PyYAML<=3.12,>=3.10 in /home/hadoop/.local/lib/python3.4/site-packages (from awscli)\n",
      "Requirement already satisfied: pyasn1>=0.1.3 in /home/hadoop/.local/lib/python3.4/site-packages (from rsa<=3.5.0,>=3.1.2->awscli)\n",
      "Requirement already satisfied: python-dateutil<3.0.0,>=2.1 in /home/hadoop/.local/lib/python3.4/site-packages (from botocore==1.5.77->awscli)\n",
      "Requirement already satisfied: jmespath<1.0.0,>=0.7.1 in /home/hadoop/.local/lib/python3.4/site-packages (from botocore==1.5.77->awscli)\n",
      "Requirement already satisfied: six>=1.5 in /usr/lib/python3.4/site-packages (from python-dateutil<3.0.0,>=2.1->botocore==1.5.77->awscli)\n",
      "Requirement already satisfied: boto3 in /home/hadoop/.local/lib/python3.4/site-packages\n",
      "Requirement already satisfied: botocore<1.6.0,>=1.5.0 in /home/hadoop/.local/lib/python3.4/site-packages (from boto3)\n",
      "Requirement already satisfied: s3transfer<0.2.0,>=0.1.10 in /home/hadoop/.local/lib/python3.4/site-packages (from boto3)\n",
      "Requirement already satisfied: jmespath<1.0.0,>=0.7.1 in /home/hadoop/.local/lib/python3.4/site-packages (from boto3)\n",
      "Requirement already satisfied: python-dateutil<3.0.0,>=2.1 in /home/hadoop/.local/lib/python3.4/site-packages (from botocore<1.6.0,>=1.5.0->boto3)\n",
      "Requirement already satisfied: docutils>=0.10 in /home/hadoop/.local/lib/python3.4/site-packages (from botocore<1.6.0,>=1.5.0->boto3)\n",
      "Requirement already satisfied: six>=1.5 in /usr/lib/python3.4/site-packages (from python-dateutil<3.0.0,>=2.1->botocore<1.6.0,>=1.5.0->boto3)\n"
     ]
    }
   ],
   "source": [
    "# Dependencies\n",
    "!pip3 install --user awscli\n",
    "!pip3 install --user boto3"
   ]
  },
  {
   "cell_type": "code",
   "execution_count": 2,
   "metadata": {
    "collapsed": true
   },
   "outputs": [],
   "source": [
    "from pyspark import SparkContext\n",
    "from geopyspark import geopyspark_conf\n",
    "from geopyspark.geotrellis import Extent\n",
    "from geopyspark.geotrellis.layer import Pyramid\n",
    "from geopyspark.geotrellis.color import ColorMap\n",
    "from geopyspark.geotrellis.constants import *\n",
    "import json\n",
    "import shapely\n",
    "from shapely.geometry import shape, MultiPolygon\n",
    "\n",
    "conf = geopyspark_conf(\"local[*]\", \"MVP\")\n",
    "pysc = SparkContext.getOrCreate(conf)"
   ]
  },
  {
   "cell_type": "code",
   "execution_count": 3,
   "metadata": {
    "collapsed": true
   },
   "outputs": [],
   "source": [
    "import boto3\n",
    "client = boto3.client(\"s3\")\n",
    "# https://boto3.readthedocs.io/en/latest/reference/customizations/s3.html#boto3.s3.transfer.S3Transfer\n",
    "transfer = boto3.s3.transfer.S3Transfer(client)\n",
    "\n",
    "bucket = \"raster-vision\"\n",
    "key_prefix = \"datasets/spacenet/AOI_3_Paris/AOI_3_Paris_Train/geojson/buildings/\"\n",
    "!mkdir -p /tmp/spacenet-data\n",
    "filename_prefix = \"/tmp/spacenet-data/\"\n",
    "\n",
    "# Returns only up to 1000 of the objects in a bucket at a time\n",
    "names = []\n",
    "temp_names = [key['Key'] for key in client.list_objects(Bucket=bucket, Prefix=key_prefix)['Contents']]\n",
    "while len(temp_names) == 1000:\n",
    "    last_name = temp_names.pop()\n",
    "    names += temp_names\n",
    "    temp_names = [key['Key'] for key in client.list_objects(Marker=last_name, Bucket=bucket, Prefix=key_prefix)['Contents']]\n",
    "\n",
    "names += temp_names\n",
    "\n",
    "# only get file names from full paths returned by list_objects\n",
    "filenames = [filename_prefix + name[name.find(\"buildings_AOI_3_Paris_\"):] for name in names]\n",
    "\n",
    "# Download takes 1 minute.\n",
    "for name, filename in zip(names, filenames):\n",
    "    transfer.download_file(\n",
    "        bucket=bucket,\n",
    "        key=name,\n",
    "        filename=filename\n",
    "    )"
   ]
  },
  {
   "cell_type": "code",
   "execution_count": 4,
   "metadata": {
    "scrolled": true
   },
   "outputs": [
    {
     "name": "stdout",
     "output_type": "stream",
     "text": [
      "16455\n"
     ]
    }
   ],
   "source": [
    "polygon_list = []\n",
    "for filename in filenames:\n",
    "    with open(filename, encoding='utf-8') as data_file:\n",
    "        buildings = json.load(data_file)\n",
    "        features = buildings['features']\n",
    "        for geom in features:\n",
    "            geometry = geom['geometry']\n",
    "            the_shape = shape(geometry)\n",
    "            polygon_list.append(the_shape)\n",
    "\n",
    "paris_buildings = MultiPolygon(polygon_list)\n",
    "\n",
    "print(len(paris_buildings))"
   ]
  },
  {
   "cell_type": "code",
   "execution_count": 5,
   "metadata": {
    "collapsed": true
   },
   "outputs": [],
   "source": [
    "from functools import partial\n",
    "import fiona\n",
    "import json\n",
    "import pyproj\n",
    "from shapely.geometry import mapping, shape\n",
    "from shapely.ops import transform\n",
    "\n",
    "project = partial(\n",
    "    pyproj.transform,\n",
    "    pyproj.Proj(init='epsg:4326'),\n",
    "    pyproj.Proj(init='epsg:3857'))\n",
    "\n",
    "paris_buildings = transform(project, paris_buildings)"
   ]
  },
  {
   "cell_type": "code",
   "execution_count": 6,
   "metadata": {},
   "outputs": [
    {
     "data": {
      "text/plain": [
       "Extent(xmin=243702.2666430303, ymin=6271096.898148117, xmax=256007.82661225073, ymax=6284607.938010221)"
      ]
     },
     "execution_count": 6,
     "metadata": {},
     "output_type": "execute_result"
    }
   ],
   "source": [
    "# Try to be friedly with python libraries like shapely\n",
    "from geopyspark import geotrellis\n",
    "Extent(*paris_buildings.bounds)"
   ]
  },
  {
   "cell_type": "code",
   "execution_count": 7,
   "metadata": {},
   "outputs": [
    {
     "name": "stdout",
     "output_type": "stream",
     "text": [
      "Bounds(minKey=SpatialKey(col=265332, row=179924), maxKey=SpatialKey(col=265493, row=180101))\n"
     ]
    }
   ],
   "source": [
    "# All execution time here is sending WKB over py4j socket\n",
    "from geopyspark.geotrellis.rasterize import rasterize\n",
    "from geopyspark.geotrellis import RasterizerOptions\n",
    "\n",
    "ro = RasterizerOptions(includePartial=True, sampleType='PixelIsArea')\n",
    "\n",
    "building_raster = rasterize(pysc, geoms=paris_buildings.geoms, \n",
    "                        crs=\"EPSG:3857\", zoom=19, \n",
    "                        fill_value=1, cell_type=\"float32\",\n",
    "                        options = ro,\n",
    "                        numPartitions = 20)\n",
    "\n",
    "print(building_raster.layer_metadata.bounds)"
   ]
  },
  {
   "cell_type": "markdown",
   "metadata": {},
   "source": [
    "## Show Rasterized Roads on a Map"
   ]
  },
  {
   "cell_type": "code",
   "execution_count": 8,
   "metadata": {},
   "outputs": [
    {
     "data": {
      "text/plain": [
       "<promise.promise.Promise at 0x7f2048184668>"
      ]
     },
     "execution_count": 8,
     "metadata": {},
     "output_type": "execute_result"
    }
   ],
   "source": [
    "M.set_center(2.263631399938739, 48.98803590003459, 19)"
   ]
  },
  {
   "cell_type": "code",
   "execution_count": 9,
   "metadata": {
    "collapsed": true
   },
   "outputs": [],
   "source": [
    "# Pyramid up from base layer\n",
    "building_pp = building_raster.pyramid(start_zoom=19, end_zoom=1).cache()"
   ]
  },
  {
   "cell_type": "code",
   "execution_count": 11,
   "metadata": {},
   "outputs": [
    {
     "name": "stdout",
     "output_type": "stream",
     "text": [
      "Added TMS server at host 0:0:0:0:0:0:0:0\n",
      "Added TMS server at port 54953\n"
     ]
    }
   ],
   "source": [
    "from geopyspark.geotrellis.tms import *\n",
    "from geonotebook.wrappers.raster import TMSRasterData\n",
    "\n",
    "# color map buildings 1 to red\n",
    "buildings_cm = ColorMap.from_colors(pysc, [1], [0x0000ff])\n",
    "\n",
    "# start JVM tile server and serve tiles to map\n",
    "server = rdd_tms_server(pysc, building_pp, buildings_cm)\n",
    "M.add_layer(TMSRasterData(server), name=\"TMS\")\n",
    "\n",
    "s3server = s3_catalog_tms_server(pysc, \"azavea-research-emr\", \"spacenet-viz/ingest/yoni\", \"catalog\", buildings_cm)"
   ]
  },
  {
   "cell_type": "code",
   "execution_count": null,
   "metadata": {
    "collapsed": true
   },
   "outputs": [],
   "source": []
  }
 ],
 "metadata": {
  "kernelspec": {
   "display_name": "GeoNotebook + GeoPySpark",
   "language": "python",
   "name": "geonotebook3"
  },
  "language_info": {
   "codemirror_mode": {
    "name": "ipython",
    "version": 3
   },
   "file_extension": ".py",
   "mimetype": "text/x-python",
   "name": "python",
   "nbconvert_exporter": "python",
   "pygments_lexer": "ipython3",
   "version": "3.4.5"
  }
 },
 "nbformat": 4,
 "nbformat_minor": 2
}
